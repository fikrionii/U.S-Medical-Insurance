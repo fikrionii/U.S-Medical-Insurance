{
 "cells": [
  {
   "cell_type": "markdown",
   "id": "d4854fa2",
   "metadata": {},
   "source": [
    "# Portfolio Project: U.S Medical Insurance Costs\n",
    "\n",
    "**Alfikri Ramadhan - [LinkedIn](https://www.linkedin.com/in/alfikri-ramadhan/)**"
   ]
  },
  {
   "cell_type": "markdown",
   "id": "4bec7675",
   "metadata": {},
   "source": [
    "## About The Project\n",
    "***\n",
    "Medical Insurance is a contract that requires an insurer to pay some or all of a person's healthcare costs in exchange for a premium. More specifically, health insurance typically pays for medical, surgical, prescription drug, and sometimes dental expenses incurred by the insured. Health insurance can reimburse the insured for expenses incurred from illness or injury, or pay the care provider directly ([Investopedia](https://www.investopedia.com/terms/h/healthinsurance.asp)).\n",
    "\n",
    "In 2019, the number of people with health insurance in the U.S. was close to 300 million, about 92 percent of the population. Across the United States, Americans pay different premiums monthly for health insurance. The costs for medical insurance can vary based on certain factors. Some of the factor that accounts for costs are age, location, tobacco use, dependents and plan category ([healthcare.gov](https://www.healthcare.gov/how-plans-set-your-premiums/)). \n",
    "\n",
    "In this project, we will analyze individual medical insurance cost and variables that may affect it. This project goal are to:\n",
    "\n",
    "* Analyze multiple variables in meaningful ways that will provide insight into the dataset\n",
    "* Implement Data Analyst skills in a real-world scenario\n",
    "* Utilize Python to model this data in a way that is digestible\n",
    "\n",
    "Each section of this Notebook will contain code that is being used to analyze the dataset, as well as any findings. The aim is to provide both insights into the data while also showcasing coding and data analysis skills."
   ]
  },
  {
   "cell_type": "markdown",
   "id": "4b36091e",
   "metadata": {},
   "source": [
    "## The Dataset\n",
    "***\n",
    "\n",
    "The dataset is obtained from [Kaggle](https://www.kaggle.com/datasets/mirichoi0218/insurance \"Kaggle | Medical Cost Personal Dataset\"). The dataset consist of 7 columns:\n",
    "\n",
    "- `age`: age of primary beneficiary\n",
    "- `sex`: insurance contractor gender, male or female\n",
    "- `bmi`: body mass index, providing an understanding of body, weights that are relatively high or low relative to height, objective index of body weight (kg / m ^ 2) using the ratio of height to weight\n",
    "- `children`: number of children covered by health insurance / number of dependents\n",
    "- `smoker`: is the beneficiary smoking? yes or no\n",
    "- `region`: the beneficiary's residential area in the US; northeast, southeast, southwest, northwest.\n",
    "- `charges`: individual medical costs billed by health insurance, in USD"
   ]
  },
  {
   "cell_type": "markdown",
   "id": "df6e7525",
   "metadata": {},
   "source": [
    "## Import The Dataset\n",
    "***\n",
    "Before begin analyzing our dataset, the first thing we have to do is import the dataset. Then we can see the header and example of row in the dataset. For example, we will take the first row."
   ]
  },
  {
   "cell_type": "code",
   "execution_count": 1,
   "id": "f974de37",
   "metadata": {},
   "outputs": [
    {
     "name": "stdout",
     "output_type": "stream",
     "text": [
      "['age', 'sex', 'bmi', 'children', 'smoker', 'region', 'charges']\n",
      "['19', 'female', '27.9', '0', 'yes', 'southwest', '16884.924']\n"
     ]
    }
   ],
   "source": [
    "import csv\n",
    "\n",
    "with open('insurance.csv', newline='') as insurance_csv:\n",
    "    csv_reader = csv.reader(insurance_csv)\n",
    "    csv_headings = next(csv_reader)\n",
    "    first_line = next(csv_reader)\n",
    "    print(csv_headings)\n",
    "    print(first_line)"
   ]
  },
  {
   "cell_type": "markdown",
   "id": "ae15b241",
   "metadata": {},
   "source": [
    "From example above, we can see the insurance.csv file has 7 columns. We can also decide the data type for each columns; `age` and `children` are integers, `bmi` and `charges` are floats, and `sex`, `smoker` and `region` are strings.\n",
    "\n",
    "We will make separate lists for each column."
   ]
  },
  {
   "cell_type": "code",
   "execution_count": 2,
   "id": "cbc08ada",
   "metadata": {},
   "outputs": [],
   "source": [
    "# create list for each column\n",
    "age = []\n",
    "sex = []\n",
    "bmi = []\n",
    "children = []\n",
    "smoker = []\n",
    "region = []\n",
    "charges = []\n",
    "\n",
    "# read the dataset\n",
    "with open('insurance.csv', newline='') as insurance_csv:\n",
    "    insurance_dict = csv.DictReader(insurance_csv)\n",
    "    for data in insurance_dict: # append row from dictionary to list\n",
    "        age.append(int(data['age']))\n",
    "        sex.append(data['sex'])\n",
    "        bmi.append(float(data['bmi']))\n",
    "        children.append(int(data['children']))\n",
    "        smoker.append(data['smoker'])\n",
    "        region.append(data['region'])\n",
    "        charges.append(float(data['charges']))"
   ]
  },
  {
   "cell_type": "markdown",
   "id": "5f53532e",
   "metadata": {},
   "source": [
    "## Investigating the Dataset\n",
    "***\n",
    "Let's see if the dataset has missing data or not."
   ]
  },
  {
   "cell_type": "code",
   "execution_count": 3,
   "id": "618ee76d",
   "metadata": {
    "scrolled": true
   },
   "outputs": [
    {
     "name": "stdout",
     "output_type": "stream",
     "text": [
      "The number of data in age list is 1338\n",
      "The number of data in sex list is 1338\n",
      "The number of data in bmi list is 1338\n",
      "The number of data in children list is 1338\n",
      "The number of data in smoker list is 1338\n",
      "The number of data in region list is 1338\n",
      "The number of data in charges list is 1338\n"
     ]
    }
   ],
   "source": [
    "complete_list_dict = {'age': age,\n",
    "                      'sex': sex,\n",
    "                      'bmi': children,\n",
    "                      'children': children,\n",
    "                      'smoker': smoker,\n",
    "                      'region': region,\n",
    "                      'charges': smoker}\n",
    "\n",
    "for key in complete_list_dict:\n",
    "    print(\"The number of data in {key} list is {list_length}\".format(key=key, list_length=len(complete_list_dict[key])))"
   ]
  },
  {
   "cell_type": "markdown",
   "id": "f3dd8694",
   "metadata": {},
   "source": [
    "There are 1338 data in all columns. Since the number is same across all columns, the are no missing data in the dataset "
   ]
  },
  {
   "cell_type": "code",
   "execution_count": 4,
   "id": "79076e58",
   "metadata": {},
   "outputs": [
    {
     "name": "stdout",
     "output_type": "stream",
     "text": [
      "1338\n"
     ]
    }
   ],
   "source": [
    "total_population = len(age)\n",
    "print(total_population)"
   ]
  },
  {
   "cell_type": "markdown",
   "id": "5c093e60",
   "metadata": {},
   "source": [
    "We have imported the dataset, now we can begin analyzing it"
   ]
  },
  {
   "cell_type": "markdown",
   "id": "7b74934c",
   "metadata": {},
   "source": [
    "## Statistical Summary\n",
    "***\n",
    "First, we can perform statistical analysis of data in each columns.\n",
    "- For categorical columns, we can sum the value in each category.\n",
    "- For numerical columns, we can evaluate its min, max, and average value.\n",
    "\n",
    "We will start with **categorical columns**"
   ]
  },
  {
   "cell_type": "markdown",
   "id": "a8450596",
   "metadata": {},
   "source": [
    "### Sex Distribution"
   ]
  },
  {
   "cell_type": "code",
   "execution_count": 5,
   "id": "9a2b9e07",
   "metadata": {},
   "outputs": [
    {
     "name": "stdout",
     "output_type": "stream",
     "text": [
      "['female', 'male']\n"
     ]
    }
   ],
   "source": [
    "# check the unique value in sex column\n",
    "sex_unique = []\n",
    "for sx in sex:\n",
    "    if sx not in sex_unique:\n",
    "        sex_unique.append(sx)\n",
    "print(sex_unique)"
   ]
  },
  {
   "cell_type": "code",
   "execution_count": 6,
   "id": "c16d04a4",
   "metadata": {},
   "outputs": [
    {
     "name": "stdout",
     "output_type": "stream",
     "text": [
      "There are 662 female data, which contributes to 49.48% of total data\n",
      "Ther are 676 male data, which contributes to 50.52% of total data\n"
     ]
    }
   ],
   "source": [
    "# check the distribution of sex\n",
    "female_num = sex.count('female')\n",
    "male_num = sex.count('male')\n",
    "female_pct = round(female_num/total_population*100, 2)\n",
    "male_pct = round(male_num/total_population*100, 2)\n",
    "print(\"There are {count} female data, which contributes to {pct}% of total data\"\n",
    "      .format(count=female_num, pct=female_pct))\n",
    "print(\"Ther are {count} male data, which contributes to {pct}% of total data\"\n",
    "      .format(count=male_num, pct=male_pct))"
   ]
  },
  {
   "cell_type": "markdown",
   "id": "476c3b60",
   "metadata": {},
   "source": [
    "The sex data is equally distributed to female and male."
   ]
  },
  {
   "cell_type": "markdown",
   "id": "57839071",
   "metadata": {},
   "source": [
    "### Region Distribution"
   ]
  },
  {
   "cell_type": "code",
   "execution_count": 7,
   "id": "8683d03c",
   "metadata": {},
   "outputs": [
    {
     "name": "stdout",
     "output_type": "stream",
     "text": [
      "['southwest', 'southeast', 'northwest', 'northeast']\n"
     ]
    }
   ],
   "source": [
    "# check the unique value in region column\n",
    "region_unique = []\n",
    "for reg in region:\n",
    "    if reg not in region_unique:\n",
    "        region_unique.append(reg)\n",
    "print(region_unique)"
   ]
  },
  {
   "cell_type": "code",
   "execution_count": 8,
   "id": "691d1f99",
   "metadata": {
    "scrolled": true
   },
   "outputs": [
    {
     "name": "stdout",
     "output_type": "stream",
     "text": [
      "There are 325 people from Southwest region, or 24.29% of total population\n",
      "There are 364 people from Southeast region, or 27.2% of total population\n",
      "There are 325 people from Northwest region, or 24.29% of total population\n",
      "There are 324 people from Northeast region, or 24.22% of total population\n"
     ]
    }
   ],
   "source": [
    "# check the distribution of region\n",
    "sw_count = region.count('southwest')\n",
    "se_count = region.count('southeast')\n",
    "nw_count = region.count('northwest')\n",
    "ne_count = region.count('northeast')\n",
    "\n",
    "\n",
    "sw_pct = round(sw_count/total_population*100, 2)\n",
    "se_pct = round(se_count/total_population*100, 2)\n",
    "nw_pct = round(nw_count/total_population*100, 2)\n",
    "ne_pct = round(ne_count/total_population*100, 2)\n",
    "\n",
    "print(\"There are {count} people from Southwest region, or {pct}% of total population\"\n",
    "      .format(count=sw_count, pct=sw_pct))\n",
    "print(\"There are {count} people from Southeast region, or {pct}% of total population\"\n",
    "      .format(count=se_count, pct=se_pct))\n",
    "print(\"There are {count} people from Northwest region, or {pct}% of total population\"\n",
    "      .format(count=nw_count, pct=nw_pct))\n",
    "print(\"There are {count} people from Northeast region, or {pct}% of total population\"\n",
    "      .format(count=ne_count, pct=ne_pct))"
   ]
  },
  {
   "cell_type": "markdown",
   "id": "2dccc7c8",
   "metadata": {},
   "source": [
    "Like sex, the distribution in region is also quite equal."
   ]
  },
  {
   "cell_type": "markdown",
   "id": "da32a2ed",
   "metadata": {},
   "source": [
    "### Smoker Distribution"
   ]
  },
  {
   "cell_type": "code",
   "execution_count": 9,
   "id": "60765763",
   "metadata": {},
   "outputs": [
    {
     "name": "stdout",
     "output_type": "stream",
     "text": [
      "['yes', 'no']\n"
     ]
    }
   ],
   "source": [
    "# check the unique value in smoker column\n",
    "smoker_unique = []\n",
    "for smk in smoker:\n",
    "    if smk not in smoker_unique:\n",
    "        smoker_unique.append(smk)\n",
    "print(smoker_unique)"
   ]
  },
  {
   "cell_type": "code",
   "execution_count": 10,
   "id": "7681f1bf",
   "metadata": {},
   "outputs": [
    {
     "name": "stdout",
     "output_type": "stream",
     "text": [
      "274 people are smoker, which is 20.48% of total population\n"
     ]
    }
   ],
   "source": [
    "smoker_yes = smoker.count('yes')\n",
    "smoker_yes_pct = round(smoker_yes/total_population*100, 2)\n",
    "print(\"{smoker} people are smoker, which is {pct}% of total population\".format(smoker=smoker_yes, pct=smoker_yes_pct))"
   ]
  },
  {
   "cell_type": "markdown",
   "id": "0870c8e9",
   "metadata": {},
   "source": [
    "Moving forward to **numerical columns**, let's start with age:\n",
    "### Age Distribution"
   ]
  },
  {
   "cell_type": "code",
   "execution_count": 11,
   "id": "34034595",
   "metadata": {
    "scrolled": true
   },
   "outputs": [
    {
     "name": "stdout",
     "output_type": "stream",
     "text": [
      "The average age in the population is 39.21 years old\n",
      "The minimum age in the population is 18 years old\n",
      "The maximum age in the population is 64 years old\n"
     ]
    }
   ],
   "source": [
    "age_min = min(age)\n",
    "age_max = max(age)\n",
    "age_avg = round(sum(age)/total_population, 2)\n",
    "print(\"The average age in the population is {age} years old\".format(age=age_avg))\n",
    "print(\"The minimum age in the population is {age} years old\".format(age=age_min))\n",
    "print(\"The maximum age in the population is {age} years old\".format(age=age_max))"
   ]
  },
  {
   "cell_type": "markdown",
   "id": "8fc380e0",
   "metadata": {},
   "source": [
    "### Children Distribution"
   ]
  },
  {
   "cell_type": "code",
   "execution_count": 12,
   "id": "fea7c233",
   "metadata": {
    "scrolled": true
   },
   "outputs": [
    {
     "name": "stdout",
     "output_type": "stream",
     "text": [
      "42.9% of population has no children (574 in total)\n",
      "57.1% of population has child or children (764 in total)\n"
     ]
    }
   ],
   "source": [
    "no_child = children.count(0)\n",
    "has_child = total_population - no_child\n",
    "no_child_pct = round(no_child/total_population*100, 2)\n",
    "has_child_pct = round(has_child/total_population*100, 2)\n",
    "print(\"{pct}% of population has no children ({count} in total)\".format(pct=no_child_pct, count=no_child))\n",
    "print(\"{pct}% of population has child or children ({count} in total)\".format(pct=has_child_pct, count=has_child))"
   ]
  },
  {
   "cell_type": "markdown",
   "id": "0f7e900f",
   "metadata": {},
   "source": [
    "Let's break it down to be more detailed"
   ]
  },
  {
   "cell_type": "code",
   "execution_count": 13,
   "id": "3c90aa16",
   "metadata": {},
   "outputs": [
    {
     "name": "stdout",
     "output_type": "stream",
     "text": [
      "[0, 1, 2, 3, 4, 5]\n"
     ]
    }
   ],
   "source": [
    "# check number of child\n",
    "child_range = []\n",
    "for child in children:\n",
    "    if child not in child_range:\n",
    "        child_range.append(child)\n",
    "        child_range.sort()\n",
    "print(child_range)"
   ]
  },
  {
   "cell_type": "markdown",
   "id": "946144e5",
   "metadata": {},
   "source": [
    "Because the number of unique values in children is not too high, we can also perceive it as numerical and categorical columns. Let's check the average first"
   ]
  },
  {
   "cell_type": "code",
   "execution_count": 14,
   "id": "659fc450",
   "metadata": {},
   "outputs": [
    {
     "name": "stdout",
     "output_type": "stream",
     "text": [
      "1.09\n"
     ]
    }
   ],
   "source": [
    "average_children = round(sum(children)/total_population, 2)\n",
    "print(average_children)"
   ]
  },
  {
   "cell_type": "markdown",
   "id": "1c8bf99d",
   "metadata": {},
   "source": [
    "On average, each individual has 1 children"
   ]
  },
  {
   "cell_type": "code",
   "execution_count": 15,
   "id": "434d85c7",
   "metadata": {
    "scrolled": true
   },
   "outputs": [
    {
     "name": "stdout",
     "output_type": "stream",
     "text": [
      "42.9% of population has no children (574 in total)\n",
      "24.22% of population has 1 child (324 in total)\n",
      "17.94% of population has 2 children (240 in total)\n",
      "11.73% of population has 3 children (157 in total)\n",
      "1.87% of population has 4 children (25 in total)\n",
      "1.35% of population has 5 children (18 in total)\n"
     ]
    }
   ],
   "source": [
    "no_child = children.count(0)\n",
    "child_1 = children.count(1)\n",
    "child_2 = children.count(2)\n",
    "child_3 = children.count(3)\n",
    "child_4 = children.count(4)\n",
    "child_5 = children.count(5)\n",
    "\n",
    "no_child_pct = round(no_child/total_population*100, 2)\n",
    "child_1_pct = round(child_1/total_population*100, 2)\n",
    "child_2_pct = round(child_2/total_population*100, 2)\n",
    "child_3_pct = round(child_3/total_population*100, 2)\n",
    "child_4_pct = round(child_4/total_population*100, 2)\n",
    "child_5_pct = round(child_5/total_population*100, 2)\n",
    "\n",
    "print(\"{pct}% of population has no children ({count} in total)\".format(pct=no_child_pct, count=no_child))\n",
    "print(\"{pct}% of population has 1 child ({count} in total)\".format(pct=child_1_pct, count=child_1))\n",
    "print(\"{pct}% of population has 2 children ({count} in total)\".format(pct=child_2_pct, count=child_2))\n",
    "print(\"{pct}% of population has 3 children ({count} in total)\".format(pct=child_3_pct, count=child_3))\n",
    "print(\"{pct}% of population has 4 children ({count} in total)\".format(pct=child_4_pct, count=child_4))\n",
    "print(\"{pct}% of population has 5 children ({count} in total)\".format(pct=child_5_pct, count=child_5))"
   ]
  },
  {
   "cell_type": "markdown",
   "id": "d97d4a8b",
   "metadata": {},
   "source": [
    "Majority of individual have 0 children. Also, as the number of children increase, the number of individual decreases."
   ]
  },
  {
   "cell_type": "markdown",
   "id": "0dc459e0",
   "metadata": {},
   "source": [
    "### Charges Distribution"
   ]
  },
  {
   "cell_type": "code",
   "execution_count": 27,
   "id": "62e463a2",
   "metadata": {},
   "outputs": [
    {
     "name": "stdout",
     "output_type": "stream",
     "text": [
      "The average insurance cost in the population is 13270.42 dollars\n",
      "The minimum insurance cost in the population is 1121.87 dollars\n",
      "The maximum insurance cost in the population is 63770.43 dollars\n"
     ]
    }
   ],
   "source": [
    "charges_min = round(min(charges), 2)\n",
    "charges_max = round(max(charges), 2)\n",
    "charges_avg = round(sum(charges)/total_population, 2)\n",
    "print(\"The average insurance cost in the population is {cost} dollars\".format(cost=charges_avg))\n",
    "print(\"The minimum insurance cost in the population is {cost} dollars\".format(cost=charges_min))\n",
    "print(\"The maximum insurance cost in the population is {cost} dollars\".format(cost=charges_max))"
   ]
  },
  {
   "cell_type": "markdown",
   "id": "6dedc911",
   "metadata": {},
   "source": [
    "## Analyzing the Dataset\n",
    "***\n",
    "The first and most crucial step that defines how the data science project progress is determining the question. **What question we want to answer with this dataset?**\n",
    "\n",
    "We are looking at medical insurance cost dataset and some variables that *may* affect it. Early on this project, we have a theory that age  is one of the variable that determines insurance cost. The other factor is tobacco use, which we can identify in our dataset as smoker variable.\n",
    "\n",
    "Lets define some question we will answer from our dataset:\n",
    "\n",
    "   1. Does age factors in one's medical insurance cost?\n",
    "   2. Does BMI affects one's medical insurance cost?\n",
    "   3. Smoking is major cause of cardiovascular disease, such as heart disease and stroke. Does a person being smoker increase their medical insurance charges?\n",
    "\n",
    "Let's analyze!!\n",
    "\n",
    "***"
   ]
  },
  {
   "cell_type": "markdown",
   "id": "852312a8",
   "metadata": {},
   "source": [
    "### Effect of Age on Medical Insurance Charges"
   ]
  },
  {
   "cell_type": "code",
   "execution_count": 17,
   "id": "1a12119a",
   "metadata": {},
   "outputs": [
    {
     "name": "stdout",
     "output_type": "stream",
     "text": [
      "18\n",
      "64\n"
     ]
    }
   ],
   "source": [
    "print(age_min)\n",
    "print(age_max)"
   ]
  },
  {
   "cell_type": "markdown",
   "id": "a1dd40e3",
   "metadata": {},
   "source": [
    "The population age are ranging from 18 to 64. Let's classify it to small category to make analyzing easier. We will divide it into 5 groups:\n",
    "\n",
    "   - Group 1 : 18 - 27 years old\n",
    "    \n",
    "   - Group 2 : 28 - 37 years old\n",
    "    \n",
    "   - Group 3 : 38 - 47 years old\n",
    "    \n",
    "   - Group 4 : 48 - 57 years old\n",
    "    \n",
    "   - Group 4 : 58 years old or above"
   ]
  },
  {
   "cell_type": "code",
   "execution_count": 28,
   "id": "933bdbc2",
   "metadata": {},
   "outputs": [
    {
     "name": "stdout",
     "output_type": "stream",
     "text": [
      "There are 362 people with age from 18 to 27 years old\n",
      "There are 262 people with age from 28 to 37 years old\n",
      "There are 272 people with age from 38 to 47 years old\n",
      "There are 278 people with age from 48 to 57 years old\n",
      "There are 164 people with age 58 years old or above\n"
     ]
    }
   ],
   "source": [
    "# create list for each age group\n",
    "age_g1 = []\n",
    "age_g2 = []\n",
    "age_g3 = []\n",
    "age_g4 = []\n",
    "age_g5 = []\n",
    "\n",
    "# create insurance charges list for each age group\n",
    "age_g1_charges = []\n",
    "age_g2_charges = []\n",
    "age_g3_charges = []\n",
    "age_g4_charges = []\n",
    "age_g5_charges = []\n",
    "\n",
    "num = 0\n",
    "while num < len(age):\n",
    "    if age[num] >= 18 and age[num] <= 27:\n",
    "        age_g1.append(age[num])\n",
    "        age_g1_charges.append(charges[num])\n",
    "    elif age[num] >= 28 and age[num] <= 37:\n",
    "        age_g2.append(age[num])\n",
    "        age_g2_charges.append(charges[num])\n",
    "    elif age[num] >= 38 and age[num] <= 47:\n",
    "        age_g3.append(age[num])\n",
    "        age_g3_charges.append(charges[num])\n",
    "    elif age[num] >= 48 and age[num] <= 57:\n",
    "        age_g4.append(age[num])\n",
    "        age_g4_charges.append(charges[num])\n",
    "    else:\n",
    "        age_g5.append(age[num])\n",
    "        age_g5_charges.append(charges[num])\n",
    "    num += 1\n",
    "\n",
    "# count the individiuals in each group\n",
    "len_g1 = len(age_g1)\n",
    "len_g2 = len(age_g2)\n",
    "len_g3 = len(age_g3)\n",
    "len_g4 = len(age_g4)\n",
    "len_g5 = len(age_g5)\n",
    "\n",
    "    \n",
    "print(\"There are {} people with age from 18 to 27 years old\".format(len_g1))\n",
    "print(\"There are {} people with age from 28 to 37 years old\".format(len_g2))\n",
    "print(\"There are {} people with age from 38 to 47 years old\".format(len_g3))\n",
    "print(\"There are {} people with age from 48 to 57 years old\".format(len_g4))\n",
    "print(\"There are {} people with age 58 years old or above\".format(len_g5))"
   ]
  },
  {
   "cell_type": "markdown",
   "id": "82488aec",
   "metadata": {},
   "source": [
    "Number of people on with age group 2, 3, and 4 are quite similar. While group 1 is about 100 people more, and group 5 is about 100 people less."
   ]
  },
  {
   "cell_type": "code",
   "execution_count": 19,
   "id": "f218bfba",
   "metadata": {
    "scrolled": true
   },
   "outputs": [
    {
     "name": "stdout",
     "output_type": "stream",
     "text": [
      "Average insurance cost for individual with age from 18 to 27 years old is 9098.19 dollars\n",
      "Average insurance cost for individual with age from 28 to 37 years old is 11661.81 dollars\n",
      "Average insurance cost for individual with age from 38 to 47 years old is 13730.04 dollars\n",
      "Average insurance cost for individual with age from 48 to 57 years old is 15937.66 dollars\n",
      "Average insurance cost for individual with age 58 years old or above is 19766.12 dollars\n"
     ]
    }
   ],
   "source": [
    "age_g1_avg_charges = round(sum(age_g1_charges)/len_g1, 2)\n",
    "age_g2_avg_charges = round(sum(age_g2_charges)/len_g2, 2)\n",
    "age_g3_avg_charges = round(sum(age_g3_charges)/len_g3, 2)\n",
    "age_g4_avg_charges = round(sum(age_g4_charges)/len_g4, 2)\n",
    "age_g5_avg_charges = round(sum(age_g5_charges)/len_g5, 2)\n",
    "\n",
    "print(\"Average insurance cost for individual with age from 18 to 27 years old is {} dollars\".format(age_g1_avg_charges))\n",
    "print(\"Average insurance cost for individual with age from 28 to 37 years old is {} dollars\".format(age_g2_avg_charges))\n",
    "print(\"Average insurance cost for individual with age from 38 to 47 years old is {} dollars\".format(age_g3_avg_charges))\n",
    "print(\"Average insurance cost for individual with age from 48 to 57 years old is {} dollars\".format(age_g4_avg_charges))\n",
    "print(\"Average insurance cost for individual with age 58 years old or above is {} dollars\".format(age_g5_avg_charges))"
   ]
  },
  {
   "cell_type": "markdown",
   "id": "3dad7286",
   "metadata": {},
   "source": [
    "Our analysis shows that individuals in the age group with lowest age (18 to 27 years old) has the lowest average insurance charges of all age groups at 9,098 dollars. On the contrary, the individuals in the age group with highest age (58 years old or above) has the highest average insurance charges at 19,766 dollars. **The increment is more than twice the cost.**\n",
    "\n",
    "We can also see that an increase from group 1 to group 4 is roughly the same at 2000 dollars. But the increase from group 4 to group 5 shows quite a jump at 4000 dollars. Also about twice the difference.\n",
    "\n",
    "One major factor in determining charges in health insurance is age, [as this article says](https://www.godigit.com/health-insurance/tips/factors-affecting-health-insurance-premium). This is because as one ages, it means a higher chance of mortality, hospitalization, and medical expenses. Also, as the older one gets, the more difficult it is to determine their risk factors and health-related expenses.\n",
    "\n",
    "So in general, the higher the age of a person, the higher insurance cost he/she will be charged."
   ]
  },
  {
   "cell_type": "markdown",
   "id": "84e30a00",
   "metadata": {},
   "source": [
    "### Effect of BMI on Medical Insurance Charges\n",
    "\n",
    "BMI or Body Mass Index is a measurement that uses the height of the person to determine the suitable weight for the person. More often than not, BMI also accurately predicts the body fat percentage for that person. Therefore, a person with a high BMI has more body fat and vice versa. While using BMI as health indicator is debatable, for the sake of analysis, we will analyze the factor of BMI on insurance cost.\n",
    "\n",
    "We will divide BMI to several groups:\n",
    "\n",
    "   1. Underweight : bmi below 18.5\n",
    "    \n",
    "   2. Normal : bmi 18.5 - 24.9\n",
    "    \n",
    "   3. Overweight : bmi 25.0 - 29.9\n",
    "    \n",
    "   4. Obese : bmi above 30.0"
   ]
  },
  {
   "cell_type": "code",
   "execution_count": 20,
   "id": "77dc4dd2",
   "metadata": {},
   "outputs": [
    {
     "name": "stdout",
     "output_type": "stream",
     "text": [
      "There are 21 people with underweight status\n",
      "There are 221 people with normal weight status\n",
      "There are 380 people with overweight status\n",
      "There are 716 people with obese status\n"
     ]
    }
   ],
   "source": [
    "# create list for each bmi group\n",
    "\n",
    "bmi_underweight = []\n",
    "bmi_normal = []\n",
    "bmi_overweight = []\n",
    "bmi_obese = []\n",
    "\n",
    "# create insurance charges list for each bmi group\n",
    "bmi_underweight_charges = []\n",
    "bmi_normal_charges = []\n",
    "bmi_overweight_charges = []\n",
    "bmi_obese_charges = []\n",
    "\n",
    "num = 0\n",
    "while num < len(bmi):\n",
    "    if bmi[num] <= 18.5:\n",
    "        bmi_underweight.append(bmi[num])\n",
    "        bmi_underweight_charges.append(charges[num])\n",
    "    elif bmi[num] > 18.5 and bmi[num] <= 24.9:\n",
    "        bmi_normal.append(bmi[num])\n",
    "        bmi_normal_charges.append(charges[num])\n",
    "    elif bmi[num] > 24.9 and bmi[num] <= 29.9:\n",
    "        bmi_overweight.append(bmi[num])\n",
    "        bmi_overweight_charges.append(charges[num])\n",
    "    else:\n",
    "        bmi_obese.append(bmi[num])\n",
    "        bmi_obese_charges.append(charges[num])\n",
    "    num += 1\n",
    "\n",
    "# count the individuals in each group\n",
    "len_underweight = len(bmi_underweight)\n",
    "len_normal = len(bmi_normal)\n",
    "len_overweight = len(bmi_overweight)\n",
    "len_obese = len(bmi_obese)\n",
    "\n",
    "print(\"There are {} people with underweight status\".format(len_underweight))\n",
    "print(\"There are {} people with normal weight status\".format(len_normal))\n",
    "print(\"There are {} people with overweight status\".format(len_overweight))\n",
    "print(\"There are {} people with obese status\".format(len_obese))"
   ]
  },
  {
   "cell_type": "markdown",
   "id": "bf406130",
   "metadata": {},
   "source": [
    "More than half of the population belong to obese status by BMI!!"
   ]
  },
  {
   "cell_type": "code",
   "execution_count": 21,
   "id": "c6a7f240",
   "metadata": {},
   "outputs": [
    {
     "name": "stdout",
     "output_type": "stream",
     "text": [
      "Average insurance cost for individual with underweight status is 8657.62 dollars\n",
      "Average insurance cost for individual with normal weight status is 10404.9 dollars\n",
      "Average insurance cost for individual with overweight status is 11006.81 dollars\n",
      "Average insurance cost for individual with obese status is 15491.54 dollars\n"
     ]
    }
   ],
   "source": [
    "underweight_avg_charges = round(sum(bmi_underweight_charges)/len_underweight, 2)\n",
    "normal_avg_charges = round(sum(bmi_normal_charges)/len_normal, 2)\n",
    "overweight_avg_charges = round(sum(bmi_overweight_charges)/len_overweight, 2)\n",
    "obese_avg_charges = round(sum(bmi_obese_charges)/len_obese, 2)\n",
    "\n",
    "print(\"Average insurance cost for individual with underweight status is {} dollars\".format(underweight_avg_charges))\n",
    "print(\"Average insurance cost for individual with normal weight status is {} dollars\".format(normal_avg_charges))\n",
    "print(\"Average insurance cost for individual with overweight status is {} dollars\".format(overweight_avg_charges))\n",
    "print(\"Average insurance cost for individual with obese status is {} dollars\".format(obese_avg_charges))"
   ]
  },
  {
   "cell_type": "markdown",
   "id": "16a3126a",
   "metadata": {},
   "source": [
    "We can see that people in obese status have highest insurance cost compared to other weight groups. Underweight has the lowest average cost, and normal and overweight status has pretty close average insurance cost.\n",
    "\n",
    "We mentioned before that using bmi as health indicator is debatable. According to this [article from Harvard School of Public Health](https://www.hsph.harvard.edu/obesity-prevention-source/obesity-definition/obesity-definition-full-story/#:~:text=BMI%20is%20not%20a%20perfect,their%20level%20of%20body%20fat. \"Why Use BMI? | Harvard\"), BMI is not a perfect measure because it does not directly assess body fat. Muscle and bone are denser than fat, so an athlete or muscular person may have a high BMI, yet not have too much fat. But most people are not athletes, and for most people, BMI is a very good gauge of their level of body fat.\n",
    "\n",
    "Why an individual with higher BMI (especially in the obese weight category) pays more insurance charges? With BMI in the extremes, the individual has a higher chance of making frequent visits to the hospitals owing to ill health, which translates to higher medical expenditure on the part of the insurance company. Hence, the higher the estimated expenditure on health-related issues, the higher will be the life insurance premiums. For further reading on how BMI and its effect on insurance cost, please check this [link](https://www.tataaia.com/blogs/life-insurance/what-is-body-mass-index-and-its-effect-on-the-life-insurance-premium.html \"What is Body Mass Index and its Effect on the Life Insurance Premium?\").\n",
    "\n",
    "Our analysis proves that individual with higher bmi likely has higher insurance cost. To have lower insurance cost, it is advised to keep bmi at normal level and avoid the overweight and obese range."
   ]
  },
  {
   "cell_type": "markdown",
   "id": "78e1ce42",
   "metadata": {},
   "source": [
    "### Effect of Smoking Status on Insurance Charges"
   ]
  },
  {
   "cell_type": "code",
   "execution_count": 22,
   "id": "e29dfcf6",
   "metadata": {},
   "outputs": [
    {
     "name": "stdout",
     "output_type": "stream",
     "text": [
      "There are of 274 smoker in our dataset, which is 20.48% of population\n"
     ]
    }
   ],
   "source": [
    "print(\"There are of {smoker} smoker in our dataset, which is {pct}% of population\".format(\n",
    "    smoker=smoker_yes,pct=smoker_yes_pct))"
   ]
  },
  {
   "cell_type": "code",
   "execution_count": 23,
   "id": "ece7e9b1",
   "metadata": {},
   "outputs": [
    {
     "name": "stdout",
     "output_type": "stream",
     "text": [
      "There are 274 smoker in our dataset, which is 20.48% of population\n",
      "There are 1064 non-smoker in our dataset, which is 79.52% of population\n"
     ]
    }
   ],
   "source": [
    "# create lists for smoker and non-smoker\n",
    "smoker_count = []\n",
    "non_smoker_count = []\n",
    "\n",
    "# create lists for smoker and non-smoker charges\n",
    "smoker_charges = []\n",
    "non_smoker_charges = []\n",
    "\n",
    "num = 0\n",
    "while num < len(smoker):\n",
    "    if smoker[num] == \"yes\":\n",
    "        smoker_count.append(smoker[num])\n",
    "        smoker_charges.append(charges[num])\n",
    "    else:\n",
    "        non_smoker_count.append(smoker[num])\n",
    "        non_smoker_charges.append(charges[num])\n",
    "    num += 1\n",
    "    \n",
    "# count individuals in each group\n",
    "len_smoker = len(smoker_count)\n",
    "len_non_smoker = len(non_smoker_count)\n",
    "        \n",
    "smoker_pct = round(len(smoker_count)/total_population*100, 2)\n",
    "non_smoker_pct = round(len(non_smoker_count)/total_population*100, 2)\n",
    "\n",
    "print(\"There are {count} smoker in our dataset, which is {pct}% of population\".format\n",
    "     (count=len_smoker, pct=smoker_pct))\n",
    "print(\"There are {count} non-smoker in our dataset, which is {pct}% of population\".format\n",
    "     (count=len_non_smoker, pct=non_smoker_pct))"
   ]
  },
  {
   "cell_type": "code",
   "execution_count": 24,
   "id": "7c553854",
   "metadata": {},
   "outputs": [
    {
     "name": "stdout",
     "output_type": "stream",
     "text": [
      "Average insurance cost for smoker is 32050.23 dollars\n",
      "Average insurance cost for non-smoker is 8434.27 dollars\n",
      "Individual whom smoke has 380% higher charges than those who doesn't\n"
     ]
    }
   ],
   "source": [
    "average_smoker_charges = round(sum(smoker_charges)/len_smoker, 2)\n",
    "average_non_smoker_charges = round(sum(non_smoker_charges)/len_non_smoker, 2)\n",
    "smoke_charges_difference = round(average_smoker_charges / average_non_smoker_charges*100, 1)\n",
    "\n",
    "print(\"Average insurance cost for smoker is {} dollars\".format(average_smoker_charges))\n",
    "print(\"Average insurance cost for non-smoker is {} dollars\".format(average_non_smoker_charges))\n",
    "print(\"Individual whom smoke has {}% higher charges than those who doesn't\".format(int(smoke_charges_difference)))"
   ]
  },
  {
   "cell_type": "markdown",
   "id": "3fdd7264",
   "metadata": {},
   "source": [
    "Our early hypothesis that smoker has higher medical cost than non-smoker is found to be true. **Smokers can pay up to three times more for insurance cost** ([Costs & Consequences of Tobacco Use: Connecticut State Department of Public Health](https://portal.ct.gov/DPH/Health-Education-Management--Surveillance/Tobacco/Costs--Consequences#:~:text=Employers%20(public%20and%20private)%20in,premiums%20than%20non%2Dtobacco%20users.&text=Smokers%20can%20pay%20up%20to,life%20insurance%20premiums%20than%20nonsmokers.)).\n",
    "\n",
    "For next analysis we will look at insurance cost difference for male and female who smoke and doesn't smoke."
   ]
  },
  {
   "cell_type": "code",
   "execution_count": 25,
   "id": "7caceaa2",
   "metadata": {
    "scrolled": true
   },
   "outputs": [
    {
     "name": "stdout",
     "output_type": "stream",
     "text": [
      "159 individual are male smoker\n",
      "115 individual are female smoker\n",
      "517 individual are male non-smoker\n",
      "547 individual are female non-smoker\n"
     ]
    }
   ],
   "source": [
    "# create lists for male and female smoker and non-smoker\n",
    "male_smoker = []\n",
    "female_smoker = []\n",
    "male_non_smoker = []\n",
    "female_non_smoker = []\n",
    "\n",
    "# create lists for each category charges\n",
    "male_smoker_charges = []\n",
    "female_smoker_charges = []\n",
    "male_non_smoker_charges = []\n",
    "female_non_smoker_charges = []\n",
    "\n",
    "num = 0\n",
    "while num < len(sex):\n",
    "    if sex[num] == \"male\":\n",
    "        if smoker[num] == \"yes\":\n",
    "            male_smoker.append(sex[num])\n",
    "            male_smoker_charges.append(charges[num])\n",
    "        else:\n",
    "            male_non_smoker.append(sex[num])\n",
    "            male_non_smoker_charges.append(charges[num])\n",
    "    elif sex[num] == \"female\":\n",
    "        if smoker[num] == \"yes\":\n",
    "            female_smoker.append(sex[num])\n",
    "            female_smoker_charges.append(charges[num])\n",
    "        else:\n",
    "            female_non_smoker.append(sex[num])\n",
    "            female_non_smoker_charges.append(charges[num])\n",
    "    num += 1\n",
    "\n",
    "print(\"{} individual are male smoker\".format(len(male_smoker)))\n",
    "print(\"{} individual are female smoker\".format(len(female_smoker)))\n",
    "print(\"{} individual are male non-smoker\".format(len(male_non_smoker)))\n",
    "print(\"{} individual are female non-smoker\".format(len(female_non_smoker)))"
   ]
  },
  {
   "cell_type": "code",
   "execution_count": 26,
   "id": "18d72773",
   "metadata": {},
   "outputs": [
    {
     "name": "stdout",
     "output_type": "stream",
     "text": [
      "Average charges for male smoker is 33042.01\n",
      "Average charges for female smoker is 30679.0\n",
      "Average charges for male non-smoker is 8087.2\n",
      "Average charges for female non-smoker is 8762.3\n"
     ]
    }
   ],
   "source": [
    "average_male_smoker_charges = round(sum(male_smoker_charges)/len(male_smoker_charges), 2)\n",
    "average_female_smoker_charges = round(sum(female_smoker_charges)/len(female_smoker_charges), 2)\n",
    "average_male_non_smoker_charges = round(sum(male_non_smoker_charges)/len(male_non_smoker_charges), 2)\n",
    "average_female_non_smoker_charges = round(sum(female_non_smoker_charges)/len(female_non_smoker_charges), 2)\n",
    "\n",
    "print(\"Average charges for male smoker is {}\".format(average_male_smoker_charges))\n",
    "print(\"Average charges for female smoker is {}\".format(average_female_smoker_charges))\n",
    "print(\"Average charges for male non-smoker is {}\".format(average_male_non_smoker_charges))\n",
    "print(\"Average charges for female non-smoker is {}\".format(average_female_non_smoker_charges))"
   ]
  },
  {
   "cell_type": "markdown",
   "id": "2c41b205",
   "metadata": {},
   "source": [
    "The average cost for male smokers is higher than that of female smoker. Interestingly, though, for non-smoker the average insurance cost is **higher** for female than male. One possible reason for this is because women are more likely to go to the doctor and take prescriptions, especially during their reproductive ages between 15 and 44 ([How Health Insurance Premium varies by Gender?](https://life.futuregenerali.in/life-insurance-made-simple/life-insurance/how-health-insurance-premium-varies-by-gender)).\n",
    "\n",
    "This also raise a question. Though female non-smoker has higher insurance cost than male non-smoker due to possible reason above, the opposite happens for male and female smoker. Does this means smoking has greater effect to insurance cost than sex? Or smoking causes more diseases for male than female? This is an example of hypotheses that can be formed by looking at our dataset."
   ]
  },
  {
   "cell_type": "markdown",
   "id": "1c1a1c72",
   "metadata": {},
   "source": [
    "## Conclusions\n",
    "***\n",
    "\n",
    "Through working on this dataset, we've found some interesting conclusions:\n",
    "- Age factors in one's medical insurance cost. In general, higher age individual will pay more insurance cost.\n",
    "- The average insurance cost is lower for those with normal bmi opposed to overweight and obese bmi.\n",
    "- Smoking significantly affect medical insurance cost. The average cost difference can reach up to 380%."
   ]
  },
  {
   "cell_type": "markdown",
   "id": "512643fc",
   "metadata": {},
   "source": [
    "## Future Directions\n",
    "***\n",
    "Some interesting questions to look in the future might be:\n",
    "- Does people in different region has difference in insurance cost?\n",
    "- Why female non-smokers has higher insurance cost than male non-smokers?\n",
    "- Is smoking has more significant effect to insurance cost than sex?"
   ]
  }
 ],
 "metadata": {
  "kernelspec": {
   "display_name": "Python 3 (ipykernel)",
   "language": "python",
   "name": "python3"
  },
  "language_info": {
   "codemirror_mode": {
    "name": "ipython",
    "version": 3
   },
   "file_extension": ".py",
   "mimetype": "text/x-python",
   "name": "python",
   "nbconvert_exporter": "python",
   "pygments_lexer": "ipython3",
   "version": "3.9.12"
  }
 },
 "nbformat": 4,
 "nbformat_minor": 5
}
